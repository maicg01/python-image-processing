{
  "nbformat": 4,
  "nbformat_minor": 0,
  "metadata": {
    "colab": {
      "provenance": [],
      "collapsed_sections": [],
      "mount_file_id": "1FWj-ZB0ZCXRjdBdwC--yS3KfWSTufUU_",
      "authorship_tag": "ABX9TyNtuSAHwCud3kx0oCEBTqPu",
      "include_colab_link": true
    },
    "kernelspec": {
      "name": "python3",
      "display_name": "Python 3"
    },
    "language_info": {
      "name": "python"
    },
    "accelerator": "GPU",
    "gpuClass": "standard"
  },
  "cells": [
    {
      "cell_type": "markdown",
      "metadata": {
        "id": "view-in-github",
        "colab_type": "text"
      },
      "source": [
        "<a href=\"https://colab.research.google.com/github/maicg01/python-image-processing/blob/main/train_face_test.ipynb\" target=\"_parent\"><img src=\"https://colab.research.google.com/assets/colab-badge.svg\" alt=\"Open In Colab\"/></a>"
      ]
    },
    {
      "cell_type": "code",
      "execution_count": null,
      "metadata": {
        "id": "77G-M90mbcsB"
      },
      "outputs": [],
      "source": [
        "# !pip install pytorch_lightning"
      ]
    },
    {
      "cell_type": "code",
      "source": [
        "import zipfile\n",
        "from PIL import Image\n",
        "import torch\n",
        "import torchvision\n",
        "import matplotlib.pyplot as plt\n",
        "# import pytorch_lightning as pl\n",
        "import torchvision.models as models\n",
        "from torchvision import transforms as T\n",
        "import torch\n",
        "from torch.nn import functional as F\n",
        "from torch.utils.data import Dataset, DataLoader\n",
        "import random\n",
        "from sklearn.model_selection import train_test_split\n",
        "import cv2"
      ],
      "metadata": {
        "id": "QJBW5UhRbppv"
      },
      "execution_count": 37,
      "outputs": []
    },
    {
      "cell_type": "code",
      "source": [
        "def prepare_data():\n",
        "    train_zip = zipfile.ZipFile('/content/drive/MyDrive/Colab Notebooks/CP/data.zip')\n",
        "    file_names = [fname for fname in train_zip.namelist() if 'good/f' in fname or 'bad/f' in fname]\n",
        "    print('Loading images metadata...')\n",
        "    images = [Image.open(train_zip.open(fname)).resize((32,32)) for fname in file_names]\n",
        "    print('Reading pixels...')\n",
        "    for i, img in enumerate(images):\n",
        "        img.load()\n",
        "        if i % 100 == 0:\n",
        "            print(i)\n",
        "    [img.load() for img in images]\n",
        "    print('Done', len(images))\n",
        "    targets = [1 if 'good' in fname else 0 for fname in file_names]\n",
        "\n",
        "    return images, targets\n",
        "\n",
        "class MyDataset(Dataset):\n",
        "  def __init__(self, images, targets, transform=None):\n",
        "    super().__init__()\n",
        "    self.images = images\n",
        "    self.targets = targets\n",
        "    self.transform = transform\n",
        "\n",
        "  def __len__(self):\n",
        "    return len(self.targets)\n",
        "\n",
        "  def __getitem__(self, idx):\n",
        "    img = self.images[idx]\n",
        "    y = self.targets[idx]\n",
        "    if self.transform is not None:\n",
        "      img = self.transform(img)\n",
        "    \n",
        "    return img, y\n",
        "\n"
      ],
      "metadata": {
        "id": "gQp6d2Uab-YH"
      },
      "execution_count": 21,
      "outputs": []
    },
    {
      "cell_type": "code",
      "source": [
        "images, targets = prepare_data()"
      ],
      "metadata": {
        "colab": {
          "base_uri": "https://localhost:8080/"
        },
        "id": "nt4pcnUHcYPv",
        "outputId": "88507261-87d2-4101-8a53-8ba22b5dc8af"
      },
      "execution_count": 22,
      "outputs": [
        {
          "output_type": "stream",
          "name": "stdout",
          "text": [
            "Loading images metadata...\n",
            "Reading pixels...\n",
            "0\n",
            "100\n",
            "200\n",
            "300\n",
            "400\n",
            "500\n",
            "600\n",
            "700\n",
            "Done 793\n"
          ]
        }
      ]
    },
    {
      "cell_type": "code",
      "source": [
        "train_transform = T.Compose([T.ToTensor(),\n",
        "       T.Normalize((0.5, 0.5, 0.5), (0.5, 0.5, 0.5))\n",
        "    ])"
      ],
      "metadata": {
        "id": "2wvbAAoTck7_"
      },
      "execution_count": 23,
      "outputs": []
    },
    {
      "cell_type": "code",
      "source": [
        "train_images, test_images, train_targets, test_targets = train_test_split(images, targets, test_size=0.1, shuffle=True)\n",
        "train = MyDataset(train_images, train_targets, transform=train_transform)\n",
        "test = MyDataset(test_images, test_targets, transform=train_transform)"
      ],
      "metadata": {
        "id": "pL0yh61LcfKX"
      },
      "execution_count": 24,
      "outputs": []
    },
    {
      "cell_type": "code",
      "source": [
        "print(train)"
      ],
      "metadata": {
        "colab": {
          "base_uri": "https://localhost:8080/"
        },
        "id": "QsnlBYL0c-M4",
        "outputId": "bc71b944-8c6d-42d3-eaa3-bb02ed22aaea"
      },
      "execution_count": 25,
      "outputs": [
        {
          "output_type": "stream",
          "name": "stdout",
          "text": [
            "<__main__.MyDataset object at 0x7f69e90937d0>\n"
          ]
        }
      ]
    },
    {
      "cell_type": "code",
      "source": [
        "trainloader = DataLoader(train, batch_size=4)\n",
        "testloader = DataLoader(test, batch_size=4)\n"
      ],
      "metadata": {
        "id": "SHRbgFaKdBbW"
      },
      "execution_count": 26,
      "outputs": []
    },
    {
      "cell_type": "code",
      "source": [
        "import matplotlib.pyplot as plt\n",
        "import numpy as np\n",
        "\n",
        "# functions to show an image\n",
        "batch_size = 4\n",
        "classes = ('bad', 'good')\n",
        "\n",
        "def imshow(img):\n",
        "    img = img / 2 + 0.5     # unnormalize\n",
        "    npimg = img.numpy()\n",
        "    plt.imshow(np.transpose(npimg, (1, 2, 0)))\n",
        "    plt.show()\n",
        "\n",
        "\n",
        "# get some random training images\n",
        "dataiter = iter(trainloader)\n",
        "images, labels = next(dataiter)\n",
        "\n",
        "# show images\n",
        "imshow(torchvision.utils.make_grid(images))\n",
        "# print labels\n",
        "print(' '.join(f'{classes[labels[j]]:5s}' for j in range(batch_size)))"
      ],
      "metadata": {
        "colab": {
          "base_uri": "https://localhost:8080/",
          "height": 155
        },
        "id": "pjJBFe-beegH",
        "outputId": "153046a0-fdd4-481d-c486-94176b27e351"
      },
      "execution_count": 27,
      "outputs": [
        {
          "output_type": "display_data",
          "data": {
            "text/plain": [
              "<Figure size 432x288 with 1 Axes>"
            ],
            "image/png": "[encoded data removed]"
          },
          "metadata": {
            "needs_background": "light"
          }
        },
        {
          "output_type": "stream",
          "name": "stdout",
          "text": [
            "good  bad   bad   good \n"
          ]
        }
      ]
    },
    {
      "cell_type": "code",
      "source": [
        "import torch.nn as nn\n",
        "import torch.nn.functional as F\n",
        "\n",
        "\n",
        "class Net(nn.Module):\n",
        "    def __init__(self):\n",
        "        super().__init__()\n",
        "        self.conv1 = nn.Conv2d(3, 6, 5)\n",
        "        self.pool = nn.MaxPool2d(2, 2)\n",
        "        self.conv2 = nn.Conv2d(6, 16, 5)\n",
        "        self.fc1 = nn.Linear(16 * 5 * 5, 120)\n",
        "        self.fc2 = nn.Linear(120, 84)\n",
        "        self.fc3 = nn.Linear(84, 10)\n",
        "\n",
        "    def forward(self, x):\n",
        "        x = self.pool(F.relu(self.conv1(x)))\n",
        "        x = self.pool(F.relu(self.conv2(x)))\n",
        "        x = torch.flatten(x, 1) # flatten all dimensions except batch\n",
        "        x = F.relu(self.fc1(x))\n",
        "        x = F.relu(self.fc2(x))\n",
        "        x = self.fc3(x)\n",
        "        return x\n",
        "\n",
        "\n",
        "net = Net()"
      ],
      "metadata": {
        "id": "N-UoOXVXfXMm"
      },
      "execution_count": 28,
      "outputs": []
    },
    {
      "cell_type": "code",
      "source": [
        "import torch.optim as optim\n",
        "\n",
        "criterion = nn.CrossEntropyLoss()\n",
        "optimizer = optim.SGD(net.parameters(), lr=0.001, momentum=0.9)"
      ],
      "metadata": {
        "id": "ulUkma2rff6G"
      },
      "execution_count": 29,
      "outputs": []
    },
    {
      "cell_type": "code",
      "source": [
        "for epoch in range(20):  # loop over the dataset multiple times\n",
        "\n",
        "    running_loss = 0.0\n",
        "    for i, data in enumerate(trainloader, 0):\n",
        "        # get the inputs; data is a list of [inputs, labels]\n",
        "        inputs, labels = data\n",
        "\n",
        "        # zero the parameter gradients\n",
        "        optimizer.zero_grad()\n",
        "\n",
        "        # forward + backward + optimize\n",
        "        outputs = net(inputs)\n",
        "        loss = criterion(outputs, labels)\n",
        "        loss.backward()\n",
        "        optimizer.step()\n",
        "\n",
        "        # print statistics\n",
        "        running_loss += loss.item()\n",
        "        if i % 100 == 99:    # print every 2000 mini-batches\n",
        "            print(f'[{epoch + 1}, {i + 1:5d}] loss: {running_loss / 2000:.3f}')\n",
        "            running_loss = 0.0\n",
        "\n",
        "print('Finished Training')"
      ],
      "metadata": {
        "colab": {
          "base_uri": "https://localhost:8080/"
        },
        "id": "xx9Kv4SrfoHd",
        "outputId": "ea134f24-d2e4-4b8c-b726-164e4853da8e"
      },
      "execution_count": 30,
      "outputs": [
        {
          "output_type": "stream",
          "name": "stdout",
          "text": [
            "[1,   100] loss: 0.103\n",
            "[2,   100] loss: 0.034\n",
            "[3,   100] loss: 0.032\n",
            "[4,   100] loss: 0.029\n",
            "[5,   100] loss: 0.022\n",
            "[6,   100] loss: 0.017\n",
            "[7,   100] loss: 0.015\n",
            "[8,   100] loss: 0.013\n",
            "[9,   100] loss: 0.012\n",
            "[10,   100] loss: 0.010\n",
            "[11,   100] loss: 0.009\n",
            "[12,   100] loss: 0.009\n",
            "[13,   100] loss: 0.008\n",
            "[14,   100] loss: 0.007\n",
            "[15,   100] loss: 0.006\n",
            "[16,   100] loss: 0.005\n",
            "[17,   100] loss: 0.004\n",
            "[18,   100] loss: 0.003\n",
            "[19,   100] loss: 0.003\n",
            "[20,   100] loss: 0.002\n",
            "Finished Training\n"
          ]
        }
      ]
    },
    {
      "cell_type": "code",
      "source": [
        "PATH = './cifar_net.pth'\n",
        "torch.save(net.state_dict(), PATH)"
      ],
      "metadata": {
        "id": "7N7al1wxfw3F"
      },
      "execution_count": 31,
      "outputs": []
    },
    {
      "cell_type": "code",
      "source": [
        "dataiter = iter(testloader)\n",
        "images, labels = next(dataiter)\n",
        "\n",
        "# print images\n",
        "imshow(torchvision.utils.make_grid(images))\n",
        "print('GroundTruth: ', ' '.join(f'{classes[labels[j]]:5s}' for j in range(4)))"
      ],
      "metadata": {
        "colab": {
          "base_uri": "https://localhost:8080/",
          "height": 155
        },
        "id": "HBHGgzylf1CF",
        "outputId": "e45e7f0a-959c-4010-d4d1-cf806bf8a4ca"
      },
      "execution_count": 32,
      "outputs": [
        {
          "output_type": "display_data",
          "data": {
            "text/plain": [
              "<Figure size 432x288 with 1 Axes>"
            ],
            "image/png": "[encoded data removed]"
          },
          "metadata": {
            "needs_background": "light"
          }
        },
        {
          "output_type": "stream",
          "name": "stdout",
          "text": [
            "GroundTruth:  bad   bad   bad   bad  \n"
          ]
        }
      ]
    },
    {
      "cell_type": "code",
      "source": [
        "net = Net()\n",
        "net.load_state_dict(torch.load(PATH))"
      ],
      "metadata": {
        "colab": {
          "base_uri": "https://localhost:8080/"
        },
        "id": "0_vcU8Acf61W",
        "outputId": "d4b3bc18-125b-4f05-bb70-97d2d260ba45"
      },
      "execution_count": 33,
      "outputs": [
        {
          "output_type": "execute_result",
          "data": {
            "text/plain": [
              "<All keys matched successfully>"
            ]
          },
          "metadata": {},
          "execution_count": 33
        }
      ]
    },
    {
      "cell_type": "code",
      "source": [
        "outputs = net(images)"
      ],
      "metadata": {
        "id": "O94irB1ygBl2"
      },
      "execution_count": 34,
      "outputs": []
    },
    {
      "cell_type": "code",
      "source": [
        "print(images.shape)"
      ],
      "metadata": {
        "colab": {
          "base_uri": "https://localhost:8080/"
        },
        "id": "JTX3vhTZNpka",
        "outputId": "b037b5fa-bf93-4205-d16c-5c92a073adff"
      },
      "execution_count": 46,
      "outputs": [
        {
          "output_type": "stream",
          "name": "stdout",
          "text": [
            "torch.Size([4, 3, 32, 32])\n"
          ]
        }
      ]
    },
    {
      "cell_type": "code",
      "source": [
        "_, predicted = torch.max(outputs, 1)\n",
        "\n",
        "print('Predicted: ', ' '.join(f'{classes[predicted[j]]:5s}'\n",
        "                              for j in range(4)))"
      ],
      "metadata": {
        "colab": {
          "base_uri": "https://localhost:8080/"
        },
        "id": "vJUtwXYggE6N",
        "outputId": "f1521cfc-692c-4954-ae13-721e71e60836"
      },
      "execution_count": 35,
      "outputs": [
        {
          "output_type": "stream",
          "name": "stdout",
          "text": [
            "Predicted:  bad   bad   bad   bad  \n"
          ]
        }
      ]
    },
    {
      "cell_type": "code",
      "source": [
        "correct = 0\n",
        "total = 0\n",
        "# since we're not training, we don't need to calculate the gradients for our outputs\n",
        "with torch.no_grad():\n",
        "    for data in testloader:\n",
        "        images, labels = data\n",
        "        # calculate outputs by running images through the network\n",
        "        outputs = net(images)\n",
        "        # the class with the highest energy is what we choose as prediction\n",
        "        _, predicted = torch.max(outputs.data, 1)\n",
        "        total += labels.size(0)\n",
        "        correct += (predicted == labels).sum().item()\n",
        "\n",
        "print(f'Accuracy of the network on the test images: {100 * correct // total} %')"
      ],
      "metadata": {
        "colab": {
          "base_uri": "https://localhost:8080/"
        },
        "id": "y9gdYwbjgIYF",
        "outputId": "3ee65151-8cac-4d25-ca14-d646d3128c20"
      },
      "execution_count": 36,
      "outputs": [
        {
          "output_type": "stream",
          "name": "stdout",
          "text": [
            "Accuracy of the network on the test images: 96 %\n"
          ]
        }
      ]
    },
    {
      "cell_type": "code",
      "source": [
        "img = cv2.imread('/content/frame15.jpg')\n",
        "img = cv2.resize(img, (32,32))"
      ],
      "metadata": {
        "id": "nvqljEI3K7VA"
      },
      "execution_count": 57,
      "outputs": []
    },
    {
      "cell_type": "code",
      "source": [
        "img = train_transform(img)\n"
      ],
      "metadata": {
        "id": "UJThRwd8Lo7h"
      },
      "execution_count": 58,
      "outputs": []
    },
    {
      "cell_type": "code",
      "source": [
        "img.shape"
      ],
      "metadata": {
        "colab": {
          "base_uri": "https://localhost:8080/"
        },
        "id": "5kzd8w-3L4PX",
        "outputId": "5f2fb926-d0b6-46e1-8546-48f73d3b4af9"
      },
      "execution_count": 59,
      "outputs": [
        {
          "output_type": "execute_result",
          "data": {
            "text/plain": [
              "torch.Size([3, 32, 32])"
            ]
          },
          "metadata": {},
          "execution_count": 59
        }
      ]
    },
    {
      "cell_type": "code",
      "source": [
        "img = torch.unsqueeze(img, dim=0)"
      ],
      "metadata": {
        "id": "uL94g81lUkZU"
      },
      "execution_count": 60,
      "outputs": []
    },
    {
      "cell_type": "code",
      "source": [
        "img.shape"
      ],
      "metadata": {
        "colab": {
          "base_uri": "https://localhost:8080/"
        },
        "id": "XaXAlZf4UouB",
        "outputId": "c32cdd2b-e3ce-496b-f39d-cffe91813ead"
      },
      "execution_count": 61,
      "outputs": [
        {
          "output_type": "execute_result",
          "data": {
            "text/plain": [
              "torch.Size([1, 3, 32, 32])"
            ]
          },
          "metadata": {},
          "execution_count": 61
        }
      ]
    },
    {
      "cell_type": "code",
      "source": [
        "net1 = Net()\n",
        "net1.load_state_dict(torch.load('/content/drive/MyDrive/Colab Notebooks/CP/face.pth'))\n",
        "out_img = net1(img)\n",
        "_, predicted = torch.max(out_img, 1)\n",
        "print(classes[predicted[0]])"
      ],
      "metadata": {
        "colab": {
          "base_uri": "https://localhost:8080/"
        },
        "id": "fieXPMDcL4_U",
        "outputId": "9b5f7a33-d290-4fa4-fde8-441b978d0ac4"
      },
      "execution_count": 65,
      "outputs": [
        {
          "output_type": "stream",
          "name": "stdout",
          "text": [
            "bad\n"
          ]
        }
      ]
    },
    {
      "cell_type": "code",
      "source": [
        "img = cv2.imread('/content/frame71_0.66_0.97.jpg')\n",
        "img = cv2.resize(img, (32,32))\n",
        "img = train_transform(img)\n",
        "img = torch.unsqueeze(img, dim=0)\n",
        "\n",
        "net1 = Net()\n",
        "net1.load_state_dict(torch.load('/content/drive/MyDrive/Colab Notebooks/CP/face.pth'))\n",
        "out_img = net1(img)\n",
        "_, predicted = torch.max(out_img, 1)\n",
        "print(classes[predicted[0]])"
      ],
      "metadata": {
        "colab": {
          "base_uri": "https://localhost:8080/"
        },
        "id": "7SOeqA4RVQkl",
        "outputId": "f7a93bd5-9f24-4d87-a876-b2f15ec9d02b"
      },
      "execution_count": 67,
      "outputs": [
        {
          "output_type": "stream",
          "name": "stdout",
          "text": [
            "bad\n"
          ]
        }
      ]
    },
    {
      "cell_type": "code",
      "source": [
        "img = cv2.imread('/content/frame521.jpg')\n",
        "img = cv2.resize(img, (32,32))\n",
        "img = train_transform(img)\n",
        "img = torch.unsqueeze(img, dim=0)\n",
        "\n",
        "net1 = Net()\n",
        "net1.load_state_dict(torch.load('/content/drive/MyDrive/Colab Notebooks/CP/face.pth'))\n",
        "out_img = net1(img)\n",
        "_, predicted = torch.max(out_img, 1)\n",
        "print(classes[predicted[0]])"
      ],
      "metadata": {
        "colab": {
          "base_uri": "https://localhost:8080/"
        },
        "id": "R2pzkFU0V19e",
        "outputId": "f5e06438-cb3c-4f1b-8edf-4887f82e8064"
      },
      "execution_count": 69,
      "outputs": [
        {
          "output_type": "stream",
          "name": "stdout",
          "text": [
            "good\n"
          ]
        }
      ]
    },
    {
      "cell_type": "code",
      "source": [
        "img = cv2.imread('/content/frame465.jpg')\n",
        "img = cv2.resize(img, (32,32))\n",
        "img = train_transform(img)\n",
        "img = torch.unsqueeze(img, dim=0)\n",
        "\n",
        "net1 = Net()\n",
        "net1.load_state_dict(torch.load('/content/drive/MyDrive/Colab Notebooks/CP/face.pth'))\n",
        "out_img = net1(img)\n",
        "_, predicted = torch.max(out_img, 1)\n",
        "print(classes[predicted[0]])"
      ],
      "metadata": {
        "colab": {
          "base_uri": "https://localhost:8080/"
        },
        "id": "FfeFyJjIWWEM",
        "outputId": "6a3caeec-68c0-4694-b4ca-c4de51b1f7e7"
      },
      "execution_count": 70,
      "outputs": [
        {
          "output_type": "stream",
          "name": "stdout",
          "text": [
            "good\n"
          ]
        }
      ]
    },
    {
      "cell_type": "code",
      "source": [
        "#convert to onnx runtime\n",
        "import torch.onnx \n",
        "from torch.autograd import Variable\n",
        "\n",
        "#Function to Convert to ONNX \n",
        "def Convert_ONNX(): \n",
        "\n",
        "    # set the model to inference mode \n",
        "    model.eval() \n",
        "\n",
        "    # Let's create a dummy input tensor  \n",
        "    dummy_input = Variable(torch.randn(1, 3, 32, 32))\n",
        "\n",
        "    # Export the model   \n",
        "    torch.onnx.export(model,         # model being run \n",
        "         dummy_input,       # model input (or a tuple for multiple inputs) \n",
        "         \"ImageClassifier.onnx\",       # where to save the model  \n",
        "         export_params=True,  # store the trained parameter weights inside the model file \n",
        "         opset_version=10,    # the ONNX version to export the model to \n",
        "         do_constant_folding=True,  # whether to execute constant folding for optimization \n",
        "         input_names = ['modelInput'],   # the model's input names \n",
        "         output_names = ['modelOutput'], # the model's output names \n",
        "         dynamic_axes={'modelInput' : {0 : 'batch_size'},    # variable length axes \n",
        "                                'modelOutput' : {0 : 'batch_size'}}) \n",
        "    print(\" \") \n",
        "    print('Model has been converted to ONNX') "
      ],
      "metadata": {
        "id": "JDlwYI2_WlK4"
      },
      "execution_count": 79,
      "outputs": []
    },
    {
      "cell_type": "code",
      "source": [
        "if __name__ == \"__main__\": \n",
        "\n",
        "    # Let's load the model we just created and test the accuracy per label \n",
        "    model = Net() \n",
        "    path = \"/content/drive/MyDrive/Colab Notebooks/CP/face.pth\" \n",
        "    model.load_state_dict(torch.load(path)) \n",
        "\n",
        "    # Test with batch of images \n",
        "    #testBatch() \n",
        "    # Test how the classes performed \n",
        "    #testClassess() \n",
        " \n",
        "    # Conversion to ONNX \n",
        "    Convert_ONNX() "
      ],
      "metadata": {
        "colab": {
          "base_uri": "https://localhost:8080/"
        },
        "id": "eujJL-AZXi_v",
        "outputId": "b1121d09-2267-49f3-bc3c-6e376ba45609"
      },
      "execution_count": 80,
      "outputs": [
        {
          "output_type": "stream",
          "name": "stdout",
          "text": [
            " \n",
            "Model has been converted to ONNX\n"
          ]
        }
      ]
    }
  ]
}