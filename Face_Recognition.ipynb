{
  "nbformat": 4,
  "nbformat_minor": 0,
  "metadata": {
    "colab": {
      "provenance": [],
      "collapsed_sections": [],
      "include_colab_link": true
    },
    "kernelspec": {
      "name": "python3",
      "display_name": "Python 3"
    },
    "language_info": {
      "name": "python"
    },
    "accelerator": "GPU"
  },
  "cells": [
    {
      "cell_type": "markdown",
      "metadata": {
        "id": "view-in-github",
        "colab_type": "text"
      },
      "source": [
        "<a href=\"https://colab.research.google.com/github/maicg01/python-image-processing/blob/main/Face_Recognition.ipynb\" target=\"_parent\"><img src=\"https://colab.research.google.com/assets/colab-badge.svg\" alt=\"Open In Colab\"/></a>"
      ]
    },
    {
      "cell_type": "code",
      "metadata": {
        "colab": {
          "base_uri": "https://localhost:8080/"
        },
        "id": "HPmdlEmq8iEi",
        "outputId": "d5a6ec5d-de94-44db-a845-5d68bfe0db6f"
      },
      "source": [
        "!pip install face-recognition"
      ],
      "execution_count": 1,
      "outputs": [
        {
          "output_type": "stream",
          "name": "stdout",
          "text": [
            "Looking in indexes: https://pypi.org/simple, https://us-python.pkg.dev/colab-wheels/public/simple/\n",
            "Collecting face-recognition\n",
            "  Downloading face_recognition-1.3.0-py2.py3-none-any.whl (15 kB)\n",
            "Requirement already satisfied: Click>=6.0 in /usr/local/lib/python3.7/dist-packages (from face-recognition) (7.1.2)\n",
            "Requirement already satisfied: Pillow in /usr/local/lib/python3.7/dist-packages (from face-recognition) (7.1.2)\n",
            "Collecting face-recognition-models>=0.3.0\n",
            "  Downloading face_recognition_models-0.3.0.tar.gz (100.1 MB)\n",
            "\u001b[K     |████████████████████████████████| 100.1 MB 1.2 MB/s \n",
            "\u001b[?25hRequirement already satisfied: numpy in /usr/local/lib/python3.7/dist-packages (from face-recognition) (1.21.6)\n",
            "Requirement already satisfied: dlib>=19.7 in /usr/local/lib/python3.7/dist-packages (from face-recognition) (19.24.0)\n",
            "Building wheels for collected packages: face-recognition-models\n",
            "  Building wheel for face-recognition-models (setup.py) ... \u001b[?25l\u001b[?25hdone\n",
            "  Created wheel for face-recognition-models: filename=face_recognition_models-0.3.0-py2.py3-none-any.whl size=100566186 sha256=a6403010a8c57c3c571f8b2efc4736cecc52a3b840de0666eb3534e7a0e33da0\n",
            "  Stored in directory: /root/.cache/pip/wheels/d6/81/3c/884bcd5e1c120ff548d57c2ecc9ebf3281c9a6f7c0e7e7947a\n",
            "Successfully built face-recognition-models\n",
            "Installing collected packages: face-recognition-models, face-recognition\n",
            "Successfully installed face-recognition-1.3.0 face-recognition-models-0.3.0\n"
          ]
        }
      ]
    },
    {
      "cell_type": "code",
      "metadata": {
        "id": "hwS4jNcN8zrP"
      },
      "source": [
        "import face_recognition\n",
        "import numpy as np"
      ],
      "execution_count": 2,
      "outputs": []
    },
    {
      "cell_type": "markdown",
      "metadata": {
        "id": "x0CdmhTS-5Rg"
      },
      "source": [
        "# Find our first face"
      ]
    },
    {
      "cell_type": "code",
      "metadata": {
        "id": "TDY0QdwP8_bW"
      },
      "source": [
        "image = face_recognition.load_image_file('/content/l4.jpg')\n",
        "face_locs = face_recognition.face_locations(image, number_of_times_to_upsample=1, model='cnn')"
      ],
      "execution_count": 46,
      "outputs": []
    },
    {
      "cell_type": "code",
      "metadata": {
        "colab": {
          "base_uri": "https://localhost:8080/"
        },
        "id": "dfzViaEP9-Y8",
        "outputId": "ae74e9e2-77ea-4b2e-a748-41d4223ab305"
      },
      "source": [
        "# How many faces did we find?\n",
        "len(face_locs), type(face_locs)"
      ],
      "execution_count": 47,
      "outputs": [
        {
          "output_type": "execute_result",
          "data": {
            "text/plain": [
              "(1, list)"
            ]
          },
          "metadata": {},
          "execution_count": 47
        }
      ]
    },
    {
      "cell_type": "code",
      "metadata": {
        "colab": {
          "base_uri": "https://localhost:8080/"
        },
        "id": "RX4fGbf31atX",
        "outputId": "89b32f2e-59c7-4728-a84a-384511d20b58"
      },
      "source": [
        "face_locs[0]"
      ],
      "execution_count": 48,
      "outputs": [
        {
          "output_type": "execute_result",
          "data": {
            "text/plain": [
              "(100, 1745, 830, 1015)"
            ]
          },
          "metadata": {},
          "execution_count": 48
        }
      ]
    },
    {
      "cell_type": "code",
      "metadata": {
        "id": "PEPDUQrT9_CY"
      },
      "source": [
        "face_encodings = face_recognition.face_encodings(image, known_face_locations=face_locs)"
      ],
      "execution_count": 49,
      "outputs": []
    },
    {
      "cell_type": "code",
      "metadata": {
        "colab": {
          "base_uri": "https://localhost:8080/"
        },
        "id": "QeBK8Dw5-qML",
        "outputId": "529d56e4-5082-436d-ce9f-092f844bb04b"
      },
      "source": [
        "face_encodings[0]"
      ],
      "execution_count": 50,
      "outputs": [
        {
          "output_type": "execute_result",
          "data": {
            "text/plain": [
              "array([-0.02880775,  0.11623754,  0.03988955, -0.09952827, -0.05783321,\n",
              "       -0.04382946, -0.06673955, -0.11459268,  0.18870632, -0.13486308,\n",
              "        0.24877101, -0.02460719, -0.21853617, -0.06573989, -0.0694925 ,\n",
              "        0.21480298, -0.18822199, -0.16477743, -0.04432398,  0.03604757,\n",
              "        0.0755446 ,  0.01942538,  0.10100816,  0.05229309, -0.09511022,\n",
              "       -0.38871217, -0.08260096, -0.03958886, -0.01345153, -0.03514732,\n",
              "       -0.08760068,  0.03482522, -0.20488855, -0.02488526,  0.04075976,\n",
              "        0.04652302, -0.04869699, -0.08096983,  0.26579836,  0.05715219,\n",
              "       -0.29006484,  0.03370918,  0.01099823,  0.26950544,  0.21010771,\n",
              "        0.01934591,  0.0355855 , -0.18590808,  0.13996215, -0.20632416,\n",
              "        0.05093342,  0.15938464,  0.0427476 ,  0.00403084, -0.023127  ,\n",
              "       -0.06574616,  0.00537951,  0.15210597, -0.17974348, -0.03138904,\n",
              "        0.0958055 , -0.13299266, -0.06942061, -0.13544801,  0.2649453 ,\n",
              "        0.13120183, -0.13585779, -0.2040996 ,  0.16807301, -0.13655929,\n",
              "       -0.1051395 ,  0.03494693, -0.13583612, -0.15540463, -0.31739444,\n",
              "       -0.02812388,  0.34160766,  0.08217951, -0.16614448,  0.09192844,\n",
              "       -0.06317712,  0.02199818,  0.09476405,  0.19795699, -0.04429054,\n",
              "        0.07357523, -0.08386114,  0.00223038,  0.23941766, -0.08837841,\n",
              "       -0.04736181,  0.23043704, -0.01830458,  0.10360989,  0.04808386,\n",
              "        0.03453501, -0.0933269 ,  0.03246355, -0.19624414,  0.00212182,\n",
              "        0.01699886,  0.0131126 , -0.00047266,  0.14537492, -0.16303252,\n",
              "        0.10930102, -0.04293028,  0.00156727,  0.07821646, -0.02235182,\n",
              "       -0.04998977, -0.15166156,  0.06626557, -0.21967709,  0.17794836,\n",
              "        0.1437932 ,  0.09262865,  0.10641816,  0.12544708,  0.0825104 ,\n",
              "       -0.01802072, -0.00183092, -0.26891544, -0.00619223,  0.13568088,\n",
              "        0.01392932,  0.12055685, -0.0019833 ])"
            ]
          },
          "metadata": {},
          "execution_count": 50
        }
      ]
    },
    {
      "cell_type": "code",
      "metadata": {
        "colab": {
          "base_uri": "https://localhost:8080/"
        },
        "id": "v2Jkfe2BCIup",
        "outputId": "691afcf6-7a11-4ba1-c55a-ea95d7cde69c"
      },
      "source": [
        "# How many datapoints do we have?\n",
        "len(face_encodings[0])"
      ],
      "execution_count": 51,
      "outputs": [
        {
          "output_type": "execute_result",
          "data": {
            "text/plain": [
              "128"
            ]
          },
          "metadata": {},
          "execution_count": 51
        }
      ]
    },
    {
      "cell_type": "markdown",
      "metadata": {
        "id": "XxaX4Guy_JD9"
      },
      "source": [
        "# Grab second face"
      ]
    },
    {
      "cell_type": "code",
      "metadata": {
        "colab": {
          "base_uri": "https://localhost:8080/"
        },
        "id": "9ppq4I4Y-zaB",
        "outputId": "7a1f6a34-6a8e-435b-b9e6-efe44369af4d"
      },
      "source": [
        "image2 = face_recognition.load_image_file('/content/l3.jpg')\n",
        "face_locs2 = face_recognition.face_locations(image2, number_of_times_to_upsample=0, model='cnn')\n",
        "face_encodings2 = face_recognition.face_encodings(image2, known_face_locations=face_locs2)\n",
        "face_encodings2[0]"
      ],
      "execution_count": 52,
      "outputs": [
        {
          "output_type": "execute_result",
          "data": {
            "text/plain": [
              "array([-0.04987139,  0.07285649, -0.02310571, -0.03382243, -0.09067659,\n",
              "        0.01458315, -0.08128209, -0.07541824,  0.13492414, -0.13766325,\n",
              "        0.19368951, -0.04014997, -0.27649903, -0.06918239, -0.06897119,\n",
              "        0.15403876, -0.14617036, -0.15364416,  0.00631099,  0.0259738 ,\n",
              "        0.09036095,  0.1195057 , -0.02009334,  0.02962956, -0.10469195,\n",
              "       -0.31634209, -0.13855444, -0.05249979, -0.01294544, -0.07882641,\n",
              "       -0.06576085,  0.04818692, -0.14841206, -0.02502811,  0.07484594,\n",
              "        0.06978939,  0.01789743, -0.00411807,  0.17593981,  0.03495966,\n",
              "       -0.25879854,  0.06163831,  0.07852415,  0.3098534 ,  0.23292102,\n",
              "        0.02710325, -0.0274925 , -0.18611181,  0.13207971, -0.1431482 ,\n",
              "        0.06082477,  0.18019621,  0.10362656,  0.07195948, -0.02372964,\n",
              "       -0.10954085,  0.0316363 ,  0.11494671, -0.15270238,  0.00108538,\n",
              "        0.12234466, -0.07003982,  0.03917808, -0.00645727,  0.14173692,\n",
              "       -0.07389437, -0.11027242, -0.24562122,  0.10563672, -0.25562799,\n",
              "       -0.10682781,  0.11856404, -0.15644333, -0.2102624 , -0.36505699,\n",
              "        0.01870488,  0.34007633,  0.16620709, -0.14462708,  0.15645678,\n",
              "        0.0096374 , -0.01543563,  0.15835397,  0.15240876, -0.00389029,\n",
              "        0.04298272, -0.13319474,  0.02984906,  0.28174213, -0.05180258,\n",
              "       -0.03992905,  0.2315544 ,  0.02747458,  0.08958293,  0.10126042,\n",
              "        0.09303054, -0.03118029, -0.02401422, -0.1790835 , -0.00276937,\n",
              "       -0.02346326, -0.03547238, -0.01256457,  0.14186537, -0.14497153,\n",
              "        0.18118636, -0.01472048,  0.01751063, -0.05469959, -0.0370907 ,\n",
              "       -0.09890307, -0.02809945,  0.14669244, -0.22951694,  0.14747819,\n",
              "        0.11958531,  0.1210207 ,  0.10588147,  0.14239207,  0.06245226,\n",
              "       -0.05349308, -0.08021186, -0.22850804, -0.05040208,  0.08495239,\n",
              "       -0.0160388 ,  0.16230008,  0.00456452])"
            ]
          },
          "metadata": {},
          "execution_count": 52
        }
      ]
    },
    {
      "cell_type": "markdown",
      "metadata": {
        "id": "536IXRnL_okb"
      },
      "source": [
        "# Compare our faces"
      ]
    },
    {
      "cell_type": "markdown",
      "metadata": {
        "id": "8qts99An_sSH"
      },
      "source": [
        "### Euclidean Distances\n",
        "\n",
        "Where dist `<= .6` is a match"
      ]
    },
    {
      "cell_type": "code",
      "metadata": {
        "id": "CdueB42cCoKB",
        "colab": {
          "base_uri": "https://localhost:8080/"
        },
        "outputId": "3b811498-c651-4c97-afe1-0588c2d783c6"
      },
      "source": [
        "# How do we calculate euclidean distances?\n",
        "\n",
        "# Distance between 3 + 7 = abs(3-7) or abs(d1-d2) => 4\n",
        "\n",
        "abs(3-7)"
      ],
      "execution_count": 56,
      "outputs": [
        {
          "output_type": "execute_result",
          "data": {
            "text/plain": [
              "4"
            ]
          },
          "metadata": {},
          "execution_count": 56
        }
      ]
    },
    {
      "cell_type": "code",
      "metadata": {
        "colab": {
          "base_uri": "https://localhost:8080/"
        },
        "id": "sLkjCZTtB7ij",
        "outputId": "7d1ff615-49bd-46ad-a824-ff64e0ae186a"
      },
      "source": [
        "# Grab the first datapoint from both matricies\n",
        "face_encodings[0][0], face_encodings2[0][0]"
      ],
      "execution_count": 57,
      "outputs": [
        {
          "output_type": "execute_result",
          "data": {
            "text/plain": [
              "(-0.028807751834392548, -0.04987138882279396)"
            ]
          },
          "metadata": {},
          "execution_count": 57
        }
      ]
    },
    {
      "cell_type": "code",
      "metadata": {
        "colab": {
          "base_uri": "https://localhost:8080/"
        },
        "id": "-j7rXLOdBCnf",
        "outputId": "a895b5b9-fcbb-426e-cf1a-8cc6b7176a9b"
      },
      "source": [
        "# Subtract them => 0.0245\n",
        "# This is the linear distance between the two points\n",
        "face_encodings[0][0] - face_encodings2[0][0]"
      ],
      "execution_count": 58,
      "outputs": [
        {
          "output_type": "execute_result",
          "data": {
            "text/plain": [
              "0.021063636988401413"
            ]
          },
          "metadata": {},
          "execution_count": 58
        }
      ]
    },
    {
      "cell_type": "code",
      "metadata": {
        "colab": {
          "base_uri": "https://localhost:8080/"
        },
        "id": "tYhJtMDpBnEN",
        "outputId": "5ccefc8e-cdce-44f6-c999-8e9dfd74c278"
      },
      "source": [
        "# Do this for every value matrix value (double check with first value) => 0.0245\n",
        "(face_encodings - face_encodings2[0])[0][0]"
      ],
      "execution_count": 59,
      "outputs": [
        {
          "output_type": "execute_result",
          "data": {
            "text/plain": [
              "0.021063636988401413"
            ]
          },
          "metadata": {},
          "execution_count": 59
        }
      ]
    },
    {
      "cell_type": "code",
      "metadata": {
        "id": "gb34mrymC7_Z",
        "colab": {
          "base_uri": "https://localhost:8080/"
        },
        "outputId": "cb62cfcd-7b72-4852-c370-b018025c9416"
      },
      "source": [
        "# Let's define this matrix of euclidean distances\n",
        "distances_matrix = face_encodings - face_encodings2[0]\n",
        "distances_matrix"
      ],
      "execution_count": 60,
      "outputs": [
        {
          "output_type": "execute_result",
          "data": {
            "text/plain": [
              "array([[ 2.10636370e-02,  4.33810577e-02,  6.29952662e-02,\n",
              "        -6.57058395e-02,  3.28433774e-02, -5.84126124e-02,\n",
              "         1.45425424e-02, -3.91744375e-02,  5.37821800e-02,\n",
              "         2.80016661e-03,  5.50815016e-02,  1.55427773e-02,\n",
              "         5.79628646e-02,  3.44249606e-03, -5.21317124e-04,\n",
              "         6.07642233e-02, -4.20516282e-02, -1.11332685e-02,\n",
              "        -5.06349658e-02,  1.00737698e-02, -1.48163512e-02,\n",
              "        -1.00080311e-01,  1.21101502e-01,  2.26635337e-02,\n",
              "         9.58172977e-03, -7.23700821e-02,  5.59534803e-02,\n",
              "         1.29109286e-02, -5.06091863e-04,  4.36790809e-02,\n",
              "        -2.18398273e-02, -1.33617036e-02, -5.64764887e-02,\n",
              "         1.42851844e-04, -3.40861753e-02, -2.32663676e-02,\n",
              "        -6.65944163e-02, -7.68517517e-02,  8.98585469e-02,\n",
              "         2.21925303e-02, -3.12663019e-02, -2.79291272e-02,\n",
              "        -6.75259195e-02, -4.03479636e-02, -2.28133053e-02,\n",
              "        -7.75733963e-03,  6.30780011e-02,  2.03728676e-04,\n",
              "         7.88244605e-03, -6.31759614e-02, -9.89134982e-03,\n",
              "        -2.08115727e-02, -6.08789548e-02, -6.79286420e-02,\n",
              "         6.02634624e-04,  4.37946916e-02, -2.62567885e-02,\n",
              "         3.71592641e-02, -2.70411074e-02, -3.24744144e-02,\n",
              "        -2.65391544e-02, -6.29528388e-02, -1.08598687e-01,\n",
              "        -1.28990736e-01,  1.23208374e-01,  2.05096200e-01,\n",
              "        -2.55853683e-02,  4.15216237e-02,  6.24362975e-02,\n",
              "         1.19068697e-01,  1.68830901e-03, -8.36171061e-02,\n",
              "         2.06072032e-02,  5.48577756e-02,  4.76625562e-02,\n",
              "        -4.68287580e-02,  1.53133273e-03, -8.40275809e-02,\n",
              "        -2.15173960e-02, -6.45283461e-02, -7.28145195e-02,\n",
              "         3.74338077e-02, -6.35899156e-02,  4.55482304e-02,\n",
              "        -4.04002517e-02,  3.05925123e-02,  4.93336022e-02,\n",
              "        -2.76186839e-02, -4.23244685e-02, -3.65758352e-02,\n",
              "        -7.43275881e-03, -1.11736357e-03, -4.57791667e-02,\n",
              "         1.40269548e-02, -5.31765595e-02, -5.84955327e-02,\n",
              "        -6.21466059e-02,  5.64777739e-02, -1.71606392e-02,\n",
              "         4.89119813e-03,  4.04621121e-02,  4.85849828e-02,\n",
              "         1.20919086e-02,  3.50955129e-03, -1.80609822e-02,\n",
              "        -7.18853474e-02, -2.82097980e-02, -1.59433596e-02,\n",
              "         1.32916056e-01,  1.47388764e-02,  4.89133038e-02,\n",
              "        -1.23562112e-01, -8.04268718e-02,  9.83984768e-03,\n",
              "         3.04701626e-02,  2.42078900e-02, -2.83920467e-02,\n",
              "         5.36695123e-04, -1.69449896e-02,  2.00581402e-02,\n",
              "         3.54723576e-02,  7.83809461e-02, -4.04074043e-02,\n",
              "         4.42098454e-02,  5.07284924e-02,  2.99681211e-02,\n",
              "        -4.17432338e-02, -6.54782355e-03]])"
            ]
          },
          "metadata": {},
          "execution_count": 60
        }
      ]
    },
    {
      "cell_type": "code",
      "metadata": {
        "id": "Tml0TsNaDN4X"
      },
      "source": [
        "# How do we evaluate this matrix?\n",
        "\n",
        "# < insert Frobenius norm theory / proof >"
      ],
      "execution_count": 61,
      "outputs": []
    },
    {
      "cell_type": "code",
      "metadata": {
        "colab": {
          "base_uri": "https://localhost:8080/"
        },
        "id": "wYGMKwKNa2Hp",
        "outputId": "20b0ea3a-ab36-42bf-a2d9-c5d55480c254"
      },
      "source": [
        "# Find the Frobenius norm of our distance matrix by:\n",
        "# - Adding the square of every vector to `dist_sum`\n",
        "# - Finding the square root of `dist_sum`\n",
        "\n",
        "dist_sum = 0\n",
        "for vector in distances_matrix[0]:\n",
        "  dist_sum = dist_sum + vector**2\n",
        "\n",
        "fro_norm = dist_sum**(1/2)\n",
        "fro_norm"
      ],
      "execution_count": 62,
      "outputs": [
        {
          "output_type": "execute_result",
          "data": {
            "text/plain": [
              "0.6110380843348021"
            ]
          },
          "metadata": {},
          "execution_count": 62
        }
      ]
    },
    {
      "cell_type": "code",
      "metadata": {
        "colab": {
          "base_uri": "https://localhost:8080/"
        },
        "id": "YHUwfZodX7xZ",
        "outputId": "c0e327e2-89ec-4553-b89e-7fb371004d4f"
      },
      "source": [
        "# Or as a one-liner\n",
        "\n",
        "fro_norm = sum([x**2 for x in distances_matrix[0]])**(1/2)\n",
        "fro_norm"
      ],
      "execution_count": 63,
      "outputs": [
        {
          "output_type": "execute_result",
          "data": {
            "text/plain": [
              "0.6110380843348021"
            ]
          },
          "metadata": {},
          "execution_count": 63
        }
      ]
    },
    {
      "cell_type": "code",
      "metadata": {
        "colab": {
          "base_uri": "https://localhost:8080/"
        },
        "id": "HAeNxtOQ_YpK",
        "outputId": "c5a4dbe4-2d41-4634-9843-7e0173c8b19a"
      },
      "source": [
        "# This is what numpy is doing with the `.norm` function:\n",
        "np.linalg.norm(distances_matrix)"
      ],
      "execution_count": 64,
      "outputs": [
        {
          "output_type": "execute_result",
          "data": {
            "text/plain": [
              "0.6110380843348023"
            ]
          },
          "metadata": {},
          "execution_count": 64
        }
      ]
    },
    {
      "cell_type": "code",
      "metadata": {
        "id": "2gssXZJIDZ0Q",
        "colab": {
          "base_uri": "https://localhost:8080/"
        },
        "outputId": "78c760ac-b27c-4e89-b9ac-b244014b1732"
      },
      "source": [
        "# The face_recognition library will do this all behind the scenes.\n",
        "# You only have to pass it two matricies:\n",
        "\n",
        "face_recognition.face_distance(face_encodings, face_encodings2[0])"
      ],
      "execution_count": 65,
      "outputs": [
        {
          "output_type": "execute_result",
          "data": {
            "text/plain": [
              "array([0.61103808])"
            ]
          },
          "metadata": {},
          "execution_count": 65
        }
      ]
    },
    {
      "cell_type": "code",
      "metadata": {
        "colab": {
          "base_uri": "https://localhost:8080/"
        },
        "id": "hqkz9MiM-8NZ",
        "outputId": "ffa60b6b-1a49-4b85-955d-6492a0cf76d2"
      },
      "source": [
        "# From the standard library, any norm <= .6 is a match, and 0.0 is a perfect match\n",
        "# Where `True` is a match and `False` is not \n",
        "face_recognition.compare_faces(face_encodings, face_encodings2[0])"
      ],
      "execution_count": 66,
      "outputs": [
        {
          "output_type": "execute_result",
          "data": {
            "text/plain": [
              "[False]"
            ]
          },
          "metadata": {},
          "execution_count": 66
        }
      ]
    },
    {
      "cell_type": "code",
      "metadata": {
        "colab": {
          "base_uri": "https://localhost:8080/"
        },
        "id": "ws2mrKkn4QY2",
        "outputId": "3bdb7254-d373-42e2-bf5c-9afbd4ce0999"
      },
      "source": [
        "face_recognition.face_distance(face_encodings, face_encodings[0])"
      ],
      "execution_count": 67,
      "outputs": [
        {
          "output_type": "execute_result",
          "data": {
            "text/plain": [
              "array([0.])"
            ]
          },
          "metadata": {},
          "execution_count": 67
        }
      ]
    },
    {
      "cell_type": "markdown",
      "metadata": {
        "id": "cMs-W-wCcrP3"
      },
      "source": [
        "### Cosine Similarity"
      ]
    },
    {
      "cell_type": "code",
      "metadata": {
        "id": "N04szLMEf6GD"
      },
      "source": [
        "# Cosine similarity can find similarities that can't be found using Euclidiean distances\n",
        "# It works especially well for multi-dimensional comparisons\n",
        "\n",
        "# < Cosine similarity theory >\n",
        "\n",
        "# similarity = cos(theta) = dot_product(A and B) / (norm(A) * norm(B))"
      ],
      "execution_count": 23,
      "outputs": []
    },
    {
      "cell_type": "code",
      "metadata": {
        "colab": {
          "base_uri": "https://localhost:8080/"
        },
        "id": "DitaZoGsmOOJ",
        "outputId": "c307945b-d71c-4d5a-9f69-44875e58aa34"
      },
      "source": [
        "# Use the zip() function to get values from both matricies at the same time\n",
        "# These are the first 5 values for face1 and face2:\n",
        "face_encodings[0][:5], face_encodings2[0][:5]"
      ],
      "execution_count": 24,
      "outputs": [
        {
          "output_type": "execute_result",
          "data": {
            "text/plain": [
              "(array([-0.12511465,  0.07453115,  0.06925846,  0.01487394, -0.14306593]),\n",
              " array([-0.14236905,  0.07431981,  0.06662806,  0.06331547, -0.08340718]))"
            ]
          },
          "metadata": {},
          "execution_count": 24
        }
      ]
    },
    {
      "cell_type": "code",
      "metadata": {
        "colab": {
          "base_uri": "https://localhost:8080/"
        },
        "id": "7uNOMrEkmivb",
        "outputId": "860eec41-bd62-4f31-d25c-148c6f5b7306"
      },
      "source": [
        "# Here's how the zip function combines them:\n",
        "[(v1, v2) for v1, v2 in zip(face_encodings[0], face_encodings2[0])][:5]"
      ],
      "execution_count": 25,
      "outputs": [
        {
          "output_type": "execute_result",
          "data": {
            "text/plain": [
              "[(-0.12511464953422546, -0.14236904680728912),\n",
              " (0.07453114539384842, 0.07431980967521667),\n",
              " (0.06925845891237259, 0.06662806123495102),\n",
              " (0.014873940497636795, 0.06331547349691391),\n",
              " (-0.1430659294128418, -0.08340717852115631)]"
            ]
          },
          "metadata": {},
          "execution_count": 25
        }
      ]
    },
    {
      "cell_type": "code",
      "metadata": {
        "id": "4ZofR2YJh2mq",
        "colab": {
          "base_uri": "https://localhost:8080/"
        },
        "outputId": "d8fac3a7-944d-4363-e334-26ad875cf6b3"
      },
      "source": [
        "# Loop through all vectors and multiply them to find the Euclidean dot product\n",
        "dot_product = sum(v1*v2 for v1, v2 in zip(face_encodings[0], face_encodings2[0]))\n",
        "dot_product"
      ],
      "execution_count": 26,
      "outputs": [
        {
          "output_type": "execute_result",
          "data": {
            "text/plain": [
              "1.9496613818476918"
            ]
          },
          "metadata": {},
          "execution_count": 26
        }
      ]
    },
    {
      "cell_type": "code",
      "metadata": {
        "colab": {
          "base_uri": "https://localhost:8080/"
        },
        "id": "aix9vLNij1W-",
        "outputId": "3a7ffe99-b235-4dab-af8c-f5a75d10fe57"
      },
      "source": [
        "# And find the Frobenius norms for our matricies\n",
        "norm_a = sum([x**2 for x in face_encodings[0]])**(1/2)\n",
        "norm_b = sum([x**2 for x in face_encodings2[0]])**(1/2)\n",
        "\n",
        "norm_a, norm_b"
      ],
      "execution_count": 27,
      "outputs": [
        {
          "output_type": "execute_result",
          "data": {
            "text/plain": [
              "(1.4346300009205597, 1.394031439452347)"
            ]
          },
          "metadata": {},
          "execution_count": 27
        }
      ]
    },
    {
      "cell_type": "code",
      "metadata": {
        "colab": {
          "base_uri": "https://localhost:8080/"
        },
        "id": "9eSyPa_Skxkj",
        "outputId": "0497e21d-8a39-426d-ca74-fa849de0583f"
      },
      "source": [
        "# Then combine the dot product and norms to calculate cosine similarity:\n",
        "cos_sim = dot_product/(norm_a * norm_b)\n",
        "cos_sim"
      ],
      "execution_count": 28,
      "outputs": [
        {
          "output_type": "execute_result",
          "data": {
            "text/plain": [
              "0.9748700146139828"
            ]
          },
          "metadata": {},
          "execution_count": 28
        }
      ]
    },
    {
      "cell_type": "code",
      "metadata": {
        "colab": {
          "base_uri": "https://localhost:8080/"
        },
        "id": "Ms0pPfk7fUhh",
        "outputId": "e390bdfa-03d8-4a58-fc6b-b1d389118064"
      },
      "source": [
        "# Now let's use the built-in cosine similarity function to check our answer\n",
        "from sklearn.metrics import pairwise\n",
        "pairwise.cosine_similarity(face_encodings, face_encodings2)"
      ],
      "execution_count": 29,
      "outputs": [
        {
          "output_type": "execute_result",
          "data": {
            "text/plain": [
              "array([[0.97487001]])"
            ]
          },
          "metadata": {},
          "execution_count": 29
        }
      ]
    },
    {
      "cell_type": "code",
      "metadata": {
        "colab": {
          "base_uri": "https://localhost:8080/"
        },
        "id": "5dvTzMdOfY5u",
        "outputId": "dd692c34-9d9a-474b-bb2d-84bb0b85b09c"
      },
      "source": [
        "# Since cosine similarity = cos(theta), \n",
        "# we can call arccos(cos_sim) to find the angle\n",
        "# between our two matricies:\n",
        "np.arccos(cos_sim)"
      ],
      "execution_count": 30,
      "outputs": [
        {
          "output_type": "execute_result",
          "data": {
            "text/plain": [
              "0.2246595164330463"
            ]
          },
          "metadata": {},
          "execution_count": 30
        }
      ]
    },
    {
      "cell_type": "code",
      "metadata": {
        "colab": {
          "base_uri": "https://localhost:8080/"
        },
        "id": "x6PEUk4XooyB",
        "outputId": "95c7395e-229b-42cb-ffcb-42196ab6d53a"
      },
      "source": [
        "# Our two matrices are .28 radians apart...\n",
        "# In degrees, that is:\n",
        "import math\n",
        "math.degrees(np.arccos(cos_sim))"
      ],
      "execution_count": 31,
      "outputs": [
        {
          "output_type": "execute_result",
          "data": {
            "text/plain": [
              "12.872042119063515"
            ]
          },
          "metadata": {},
          "execution_count": 31
        }
      ]
    },
    {
      "cell_type": "code",
      "metadata": {
        "colab": {
          "base_uri": "https://localhost:8080/"
        },
        "id": "gOKDrdOlplXf",
        "outputId": "eb56d9c4-6817-4349-a47d-9261612159c0"
      },
      "source": [
        "# A perfect match would have an angle equal to 0 between our two points...\n",
        "# and since cos(0) == 1, a perfect match would be 1:\n",
        "pairwise.cosine_similarity(face_encodings, face_encodings)"
      ],
      "execution_count": 32,
      "outputs": [
        {
          "output_type": "execute_result",
          "data": {
            "text/plain": [
              "array([[1.]])"
            ]
          },
          "metadata": {},
          "execution_count": 32
        }
      ]
    },
    {
      "cell_type": "markdown",
      "metadata": {
        "id": "BUsZU1U6hpjS"
      },
      "source": [
        "### Normalize NP Dots"
      ]
    },
    {
      "cell_type": "code",
      "metadata": {
        "id": "tqZa2FUkon_k"
      },
      "source": [],
      "execution_count": null,
      "outputs": []
    },
    {
      "cell_type": "code",
      "metadata": {
        "id": "3rYWSf1sgUrl"
      },
      "source": [
        "def compare_faces(f1, f2):\n",
        "    def normalize(embedding):\n",
        "        embedding_norm = np.linalg.norm(embedding)\n",
        "        normed_embedding = embedding / embedding_norm\n",
        "        return normed_embedding\n",
        "\n",
        "    f1 = normalize(f1)\n",
        "    f2 = normalize(f2)\n",
        "\n",
        "    return (1. + np.dot(f1, f2)) / 2"
      ],
      "execution_count": null,
      "outputs": []
    },
    {
      "cell_type": "code",
      "metadata": {
        "colab": {
          "base_uri": "https://localhost:8080/"
        },
        "id": "F7ZeKBkghGzo",
        "outputId": "b731579e-521b-4e18-cd0c-26a27be5b997"
      },
      "source": [
        "compare_faces(face_encodings, face_encodings2[0])"
      ],
      "execution_count": null,
      "outputs": [
        {
          "output_type": "execute_result",
          "data": {
            "text/plain": [
              "array([0.97988125])"
            ]
          },
          "metadata": {
            "tags": []
          },
          "execution_count": 92
        }
      ]
    },
    {
      "cell_type": "code",
      "metadata": {
        "id": "tuMGtNMshrFT"
      },
      "source": [],
      "execution_count": null,
      "outputs": []
    }
  ]
}